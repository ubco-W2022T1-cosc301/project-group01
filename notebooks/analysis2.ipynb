{
 "cells": [
  {
   "cell_type": "markdown",
   "metadata": {},
   "source": [
    "# Tina Liu "
   ]
  },
  {
   "cell_type": "markdown",
   "metadata": {},
   "source": [
    "## Research question/interests\n",
    "\n",
    "Briefly describe your research question or interests here."
   ]
  },
  {
   "cell_type": "markdown",
   "metadata": {},
   "source": [
    "In this research, something I am interested in is whether or not gender plays a role in how well students perform. If so, I want to see if there is a correlation from other social aspects that might impact a students performance. I specifically want to look at the two different sex (male/female) in correlation to math, reading, and writing scores. Additionally, as a female, I have personally grown up with the stereotype that 'boys are smarter than girls' so through these data sets I want to be able to debunk that stereotype.  "
   ]
  },
  {
   "cell_type": "code",
   "execution_count": 79,
   "metadata": {},
   "outputs": [],
   "source": [
    "import numpy as np\n",
    "import pandas as pd\n",
    "import seaborn as sns"
   ]
  },
  {
   "cell_type": "code",
   "execution_count": 80,
   "metadata": {},
   "outputs": [],
   "source": [
    "dp = pd.read_csv('../data/raw/exams.csv')"
   ]
  },
  {
   "cell_type": "code",
   "execution_count": 81,
   "metadata": {},
   "outputs": [
    {
     "name": "stdout",
     "output_type": "stream",
     "text": [
      "     gender race/ethnicity parental level of education         lunch  \\\n",
      "0      male        group A                 high school      standard   \n",
      "1    female        group D            some high school  free/reduced   \n",
      "2      male        group E                some college  free/reduced   \n",
      "3      male        group B                 high school      standard   \n",
      "4      male        group E          associate's degree      standard   \n",
      "..      ...            ...                         ...           ...   \n",
      "995    male        group C                 high school      standard   \n",
      "996    male        group D          associate's degree  free/reduced   \n",
      "997  female        group C            some high school  free/reduced   \n",
      "998  female        group C                some college      standard   \n",
      "999    male        group A                some college      standard   \n",
      "\n",
      "    test preparation course  math score  reading score  writing score  \n",
      "0                 completed          67             67             63  \n",
      "1                      none          40             59             55  \n",
      "2                      none          59             60             50  \n",
      "3                      none          77             78             68  \n",
      "4                 completed          78             73             68  \n",
      "..                      ...         ...            ...            ...  \n",
      "995                    none          73             70             65  \n",
      "996               completed          85             91             92  \n",
      "997                    none          32             35             41  \n",
      "998                    none          73             74             82  \n",
      "999               completed          65             60             62  \n",
      "\n",
      "[1000 rows x 8 columns]\n"
     ]
    }
   ],
   "source": [
    "print(dp)"
   ]
  },
  {
   "cell_type": "markdown",
   "metadata": {},
   "source": [
    "Here I am printing out the original number of rows and columns \n",
    "printing out the different genders that I will be looking at to see if there are any outliers. I did the same for the gender column to check if there were other genders to account for in my research. "
   ]
  },
  {
   "cell_type": "code",
   "execution_count": 117,
   "metadata": {},
   "outputs": [
    {
     "name": "stdout",
     "output_type": "stream",
     "text": [
      "Original number of rows and columns: (1000, 5)\n",
      "All columns in data set:  Index(['sex', 'math score', 'reading score', 'writing score', 'total score'], dtype='object')\n"
     ]
    },
    {
     "data": {
      "text/plain": [
       "['male', 'female']"
      ]
     },
     "execution_count": 117,
     "metadata": {},
     "output_type": "execute_result"
    }
   ],
   "source": [
    "print(\"Original number of rows and columns:\", dp.shape)\n",
    "print(\"All columns in data set: \", dp.columns)\n",
    "list(d[\"gender\"].unique())"
   ]
  },
  {
   "cell_type": "markdown",
   "metadata": {},
   "source": [
    "# Task 2\n",
    "## Data Analysis Pipeline \n",
    "    1. Load Data \n",
    "       - Check file types and encodings.\n",
    "       - Skip rows and columns as needed. \n",
    "    2. Clean Data \n",
    "       - drop any columns not needed. \n",
    "       - deal with missing values. \n",
    "    3. Process Data \n",
    "       - creates new columns (weighted average) \n",
    "       - Deal with outliers \n",
    "    4. Wrangle Data \n",
    "       - Restructure columns and rows"
   ]
  },
  {
   "cell_type": "markdown",
   "metadata": {},
   "source": [
    "For my data set, I simplified the data set to only look at 4 different columns: gender, math score, reading score, and writing score by dropping the columns I am not working with. For the math,reading, and writing scores, I simplified the data to only have values between 0 and 100 to get rid of any outliers like negative values or values above 100. I also dropped any values that are NA just in case  Finally, I created a new column that totals the average of all the scores for each gender.  "
   ]
  },
  {
   "cell_type": "code",
   "execution_count": 83,
   "metadata": {},
   "outputs": [
    {
     "data": {
      "text/html": [
       "<div>\n",
       "<style scoped>\n",
       "    .dataframe tbody tr th:only-of-type {\n",
       "        vertical-align: middle;\n",
       "    }\n",
       "\n",
       "    .dataframe tbody tr th {\n",
       "        vertical-align: top;\n",
       "    }\n",
       "\n",
       "    .dataframe thead th {\n",
       "        text-align: right;\n",
       "    }\n",
       "</style>\n",
       "<table border=\"1\" class=\"dataframe\">\n",
       "  <thead>\n",
       "    <tr style=\"text-align: right;\">\n",
       "      <th></th>\n",
       "      <th>sex</th>\n",
       "      <th>math score</th>\n",
       "      <th>reading score</th>\n",
       "      <th>writing score</th>\n",
       "      <th>total score</th>\n",
       "    </tr>\n",
       "  </thead>\n",
       "  <tbody>\n",
       "    <tr>\n",
       "      <th>0</th>\n",
       "      <td>male</td>\n",
       "      <td>67</td>\n",
       "      <td>67</td>\n",
       "      <td>63</td>\n",
       "      <td>65.666667</td>\n",
       "    </tr>\n",
       "    <tr>\n",
       "      <th>1</th>\n",
       "      <td>female</td>\n",
       "      <td>40</td>\n",
       "      <td>59</td>\n",
       "      <td>55</td>\n",
       "      <td>51.333333</td>\n",
       "    </tr>\n",
       "    <tr>\n",
       "      <th>2</th>\n",
       "      <td>male</td>\n",
       "      <td>59</td>\n",
       "      <td>60</td>\n",
       "      <td>50</td>\n",
       "      <td>56.333333</td>\n",
       "    </tr>\n",
       "    <tr>\n",
       "      <th>3</th>\n",
       "      <td>male</td>\n",
       "      <td>77</td>\n",
       "      <td>78</td>\n",
       "      <td>68</td>\n",
       "      <td>74.333333</td>\n",
       "    </tr>\n",
       "    <tr>\n",
       "      <th>4</th>\n",
       "      <td>male</td>\n",
       "      <td>78</td>\n",
       "      <td>73</td>\n",
       "      <td>68</td>\n",
       "      <td>73.000000</td>\n",
       "    </tr>\n",
       "    <tr>\n",
       "      <th>...</th>\n",
       "      <td>...</td>\n",
       "      <td>...</td>\n",
       "      <td>...</td>\n",
       "      <td>...</td>\n",
       "      <td>...</td>\n",
       "    </tr>\n",
       "    <tr>\n",
       "      <th>995</th>\n",
       "      <td>male</td>\n",
       "      <td>73</td>\n",
       "      <td>70</td>\n",
       "      <td>65</td>\n",
       "      <td>69.333333</td>\n",
       "    </tr>\n",
       "    <tr>\n",
       "      <th>996</th>\n",
       "      <td>male</td>\n",
       "      <td>85</td>\n",
       "      <td>91</td>\n",
       "      <td>92</td>\n",
       "      <td>89.333333</td>\n",
       "    </tr>\n",
       "    <tr>\n",
       "      <th>997</th>\n",
       "      <td>female</td>\n",
       "      <td>32</td>\n",
       "      <td>35</td>\n",
       "      <td>41</td>\n",
       "      <td>36.000000</td>\n",
       "    </tr>\n",
       "    <tr>\n",
       "      <th>998</th>\n",
       "      <td>female</td>\n",
       "      <td>73</td>\n",
       "      <td>74</td>\n",
       "      <td>82</td>\n",
       "      <td>76.333333</td>\n",
       "    </tr>\n",
       "    <tr>\n",
       "      <th>999</th>\n",
       "      <td>male</td>\n",
       "      <td>65</td>\n",
       "      <td>60</td>\n",
       "      <td>62</td>\n",
       "      <td>62.333333</td>\n",
       "    </tr>\n",
       "  </tbody>\n",
       "</table>\n",
       "<p>1000 rows × 5 columns</p>\n",
       "</div>"
      ],
      "text/plain": [
       "        sex  math score  reading score  writing score  total score\n",
       "0      male          67             67             63    65.666667\n",
       "1    female          40             59             55    51.333333\n",
       "2      male          59             60             50    56.333333\n",
       "3      male          77             78             68    74.333333\n",
       "4      male          78             73             68    73.000000\n",
       "..      ...         ...            ...            ...          ...\n",
       "995    male          73             70             65    69.333333\n",
       "996    male          85             91             92    89.333333\n",
       "997  female          32             35             41    36.000000\n",
       "998  female          73             74             82    76.333333\n",
       "999    male          65             60             62    62.333333\n",
       "\n",
       "[1000 rows x 5 columns]"
      ]
     },
     "execution_count": 83,
     "metadata": {},
     "output_type": "execute_result"
    }
   ],
   "source": [
    "dp = dp[dp['math score'].between(0.0,100.0)]\n",
    "dp = dp[dp['reading score'].between(0.0,100.0)]\n",
    "dp = dp[dp['writing score'].between(0.0,100.0)]\n",
    "dp = dp.dropna()\n",
    "dp = dp.rename(columns={'gender':'sex'})\n",
    "dp = dp.drop(columns = [\"race/ethnicity\",\"parental level of education\", \"lunch\", \"test preparation course\"])\n",
    "dp['total score']=(dp['reading score']+dp['math score']+dp['writing score'])/3\n",
    "dp"
   ]
  },
  {
   "cell_type": "markdown",
   "metadata": {},
   "source": [
    "Looks at the mean, standard deviation, min, and max for each score. I wanted to check if there were any outliers so I can add changes to my analysis pipeline. "
   ]
  },
  {
   "cell_type": "code",
   "execution_count": 101,
   "metadata": {},
   "outputs": [
    {
     "data": {
      "text/html": [
       "<div>\n",
       "<style scoped>\n",
       "    .dataframe tbody tr th:only-of-type {\n",
       "        vertical-align: middle;\n",
       "    }\n",
       "\n",
       "    .dataframe tbody tr th {\n",
       "        vertical-align: top;\n",
       "    }\n",
       "\n",
       "    .dataframe thead th {\n",
       "        text-align: right;\n",
       "    }\n",
       "</style>\n",
       "<table border=\"1\" class=\"dataframe\">\n",
       "  <thead>\n",
       "    <tr style=\"text-align: right;\">\n",
       "      <th></th>\n",
       "      <th>math score</th>\n",
       "      <th>reading score</th>\n",
       "      <th>writing score</th>\n",
       "      <th>total score</th>\n",
       "    </tr>\n",
       "  </thead>\n",
       "  <tbody>\n",
       "    <tr>\n",
       "      <th>count</th>\n",
       "      <td>1000.000000</td>\n",
       "      <td>1000.000000</td>\n",
       "      <td>1000.000000</td>\n",
       "      <td>1000.000000</td>\n",
       "    </tr>\n",
       "    <tr>\n",
       "      <th>mean</th>\n",
       "      <td>66.396000</td>\n",
       "      <td>69.002000</td>\n",
       "      <td>67.738000</td>\n",
       "      <td>67.712000</td>\n",
       "    </tr>\n",
       "    <tr>\n",
       "      <th>std</th>\n",
       "      <td>15.402871</td>\n",
       "      <td>14.737272</td>\n",
       "      <td>15.600985</td>\n",
       "      <td>14.514244</td>\n",
       "    </tr>\n",
       "    <tr>\n",
       "      <th>min</th>\n",
       "      <td>13.000000</td>\n",
       "      <td>27.000000</td>\n",
       "      <td>23.000000</td>\n",
       "      <td>21.666667</td>\n",
       "    </tr>\n",
       "    <tr>\n",
       "      <th>25%</th>\n",
       "      <td>56.000000</td>\n",
       "      <td>60.000000</td>\n",
       "      <td>58.000000</td>\n",
       "      <td>58.583333</td>\n",
       "    </tr>\n",
       "    <tr>\n",
       "      <th>50%</th>\n",
       "      <td>66.500000</td>\n",
       "      <td>70.000000</td>\n",
       "      <td>68.000000</td>\n",
       "      <td>67.333333</td>\n",
       "    </tr>\n",
       "    <tr>\n",
       "      <th>75%</th>\n",
       "      <td>77.000000</td>\n",
       "      <td>79.000000</td>\n",
       "      <td>79.000000</td>\n",
       "      <td>78.333333</td>\n",
       "    </tr>\n",
       "    <tr>\n",
       "      <th>max</th>\n",
       "      <td>100.000000</td>\n",
       "      <td>100.000000</td>\n",
       "      <td>100.000000</td>\n",
       "      <td>100.000000</td>\n",
       "    </tr>\n",
       "  </tbody>\n",
       "</table>\n",
       "</div>"
      ],
      "text/plain": [
       "        math score reading score writing score  total score\n",
       "count  1000.000000   1000.000000   1000.000000  1000.000000\n",
       "mean     66.396000     69.002000     67.738000    67.712000\n",
       "std      15.402871     14.737272     15.600985    14.514244\n",
       "min      13.000000     27.000000     23.000000    21.666667\n",
       "25%      56.000000     60.000000     58.000000    58.583333\n",
       "50%      66.500000     70.000000     68.000000    67.333333\n",
       "75%      77.000000     79.000000     79.000000    78.333333\n",
       "max     100.000000    100.000000    100.000000   100.000000"
      ]
     },
     "execution_count": 101,
     "metadata": {},
     "output_type": "execute_result"
    }
   ],
   "source": [
    "dp.describe().apply(lambda s: s.apply(lambda x: format(x, 'f')))"
   ]
  },
  {
   "cell_type": "code",
   "execution_count": 85,
   "metadata": {},
   "outputs": [
    {
     "data": {
      "text/plain": [
       "<AxesSubplot:ylabel='Frequency'>"
      ]
     },
     "execution_count": 85,
     "metadata": {},
     "output_type": "execute_result"
    },
    {
     "data": {
      "image/png": "[encoded data removed]",
      "text/plain": [
       "<Figure size 864x432 with 1 Axes>"
      ]
     },
     "metadata": {
      "needs_background": "light"
     },
     "output_type": "display_data"
    }
   ],
   "source": [
    "dp.plot(kind='hist', bins=20, figsize=(12,6), facecolor='grey',edgecolor='black')"
   ]
  },
  {
   "cell_type": "markdown",
   "metadata": {},
   "source": [
    "This graph isn't the most useful because it only averages out the score for all genders. However, this graph pivoted me to find graphs that specifically focus on gender vs. scores. "
   ]
  },
  {
   "cell_type": "markdown",
   "metadata": {},
   "source": [
    "## Task 2 - Milestone 3 \n",
    "Here I used .describe() for each standarized test to check if the standard deviation, min, mean, and max in order to conduct my analysis accurately. I used .groupby() to group the scores by each gender to look at the correlation between gender and scores. "
   ]
  },
  {
   "cell_type": "code",
   "execution_count": 112,
   "metadata": {},
   "outputs": [
    {
     "name": "stdout",
     "output_type": "stream",
     "text": [
      "reading scores\n",
      "        count       mean        std   min   25%   50%   75%    max\n",
      "gender                                                            \n",
      "female  483.0  71.888199  14.660470  29.0  62.0  72.0  83.0  100.0\n",
      "male    517.0  66.305609  14.305073  27.0  57.0  67.0  77.0  100.0\n",
      "\n",
      "math scores\n",
      "        count       mean        std   min   25%   50%   75%    max\n",
      "gender                                                            \n",
      "female  483.0  63.196687  15.490079  13.0  53.0  63.0  75.0  100.0\n",
      "male    517.0  69.384913  14.719365  29.0  59.0  70.0  79.0  100.0\n",
      "\n",
      "writing scores\n",
      "        count       mean        std   min   25%   50%   75%    max\n",
      "gender                                                            \n",
      "female  483.0  71.708075  15.238072  23.0  62.0  72.0  83.0  100.0\n",
      "male    517.0  64.029014  15.025983  23.0  54.0  64.0  74.0  100.0\n"
     ]
    }
   ],
   "source": [
    "columns = ['gender','math score','reading score','writing score']\n",
    "graph = pd.read_csv('../data/raw/exams.csv', usecols=columns) \n",
    "print(\"reading scores\")\n",
    "print(d['reading score'].groupby(d[\"gender\"]).describe())\n",
    "print()\n",
    "print(\"math scores\")\n",
    "print(d['math score'].groupby(d[\"gender\"]).describe())\n",
    "print()\n",
    "print(\"writing scores\")\n",
    "print(d['writing score'].groupby(d[\"gender\"]).describe())"
   ]
  },
  {
   "cell_type": "markdown",
   "metadata": {},
   "source": [
    "### For this specific graph, I compared the two different sex (male/female) with their specific readings scores and seeing which gender has a higher standard deviation. "
   ]
  },
  {
   "cell_type": "code",
   "execution_count": 87,
   "metadata": {},
   "outputs": [
    {
     "data": {
      "text/plain": [
       "<AxesSubplot:xlabel='gender', ylabel='reading score'>"
      ]
     },
     "execution_count": 87,
     "metadata": {},
     "output_type": "execute_result"
    },
    {
     "data": {
      "image/png": "[encoded data removed]",
      "text/plain": [
       "<Figure size 432x288 with 1 Axes>"
      ]
     },
     "metadata": {
      "needs_background": "light"
     },
     "output_type": "display_data"
    }
   ],
   "source": [
    "d = pd.read_csv('../data/raw/exams.csv')\n",
    "sns.barplot(x='gender',y='reading score', data=d, estimator=np.median, capsize =0.75)"
   ]
  },
  {
   "cell_type": "markdown",
   "metadata": {},
   "source": [
    "### For this specific graph, I compared the two different sex(male/female) with their specific math scores and seeing which gender has a higher standard deviation.  "
   ]
  },
  {
   "cell_type": "code",
   "execution_count": 88,
   "metadata": {},
   "outputs": [
    {
     "data": {
      "text/plain": [
       "<AxesSubplot:xlabel='gender', ylabel='math score'>"
      ]
     },
     "execution_count": 88,
     "metadata": {},
     "output_type": "execute_result"
    },
    {
     "data": {
      "image/png": "[encoded data removed]",
      "text/plain": [
       "<Figure size 432x288 with 1 Axes>"
      ]
     },
     "metadata": {
      "needs_background": "light"
     },
     "output_type": "display_data"
    }
   ],
   "source": [
    "d = pd.read_csv('../data/raw/exams.csv')\n",
    "sns.barplot(x='gender',y='math score', data=d,estimator=np.median, capsize = 0.75)"
   ]
  },
  {
   "cell_type": "markdown",
   "metadata": {},
   "source": [
    "### For this specific graph, I compared the two different sex(male/female) with their specific writing scores and seeing which gender has a higher standard deviation.  "
   ]
  },
  {
   "cell_type": "code",
   "execution_count": 89,
   "metadata": {},
   "outputs": [
    {
     "data": {
      "text/plain": [
       "<AxesSubplot:xlabel='gender', ylabel='writing score'>"
      ]
     },
     "execution_count": 89,
     "metadata": {},
     "output_type": "execute_result"
    },
    {
     "data": {
      "image/png": "[encoded data removed]",
      "text/plain": [
       "<Figure size 432x288 with 1 Axes>"
      ]
     },
     "metadata": {
      "needs_background": "light"
     },
     "output_type": "display_data"
    }
   ],
   "source": [
    "d = pd.read_csv('../data/raw/exams.csv')\n",
    "sns.barplot(x='gender',y='writing score', data=d, estimator=np.median, capsize =0.75)"
   ]
  },
  {
   "cell_type": "markdown",
   "metadata": {},
   "source": [
    "### For this specific graph, I compared the two different sex(male/female) with their averages of each writing, math, and reading scores and seeing which gender has a higher standard deviation.  "
   ]
  },
  {
   "cell_type": "code",
   "execution_count": 90,
   "metadata": {},
   "outputs": [
    {
     "data": {
      "text/plain": [
       "<AxesSubplot:xlabel='gender', ylabel='average score'>"
      ]
     },
     "execution_count": 90,
     "metadata": {},
     "output_type": "execute_result"
    },
    {
     "data": {
      "image/png": "[encoded data removed]",
      "text/plain": [
       "<Figure size 432x288 with 1 Axes>"
      ]
     },
     "metadata": {
      "needs_background": "light"
     },
     "output_type": "display_data"
    }
   ],
   "source": [
    "d = pd.read_csv('../data/raw/exams.csv')\n",
    "d['average score']=(d['reading score']+d['math score']+d['writing score'])/3\n",
    "sns.barplot(x='gender',y='average score', data=d, hue='gender', capsize =0.25)"
   ]
  },
  {
   "cell_type": "markdown",
   "metadata": {},
   "source": [
    "## Task 3 - Milestone 3 (Method Chaining)\n",
    "\n",
    "Here I am just apply method chaining to my data. "
   ]
  },
  {
   "cell_type": "code",
   "execution_count": 118,
   "metadata": {},
   "outputs": [
    {
     "name": "stdout",
     "output_type": "stream",
     "text": [
      "        Sex  Math Score  Reading Score  Writing Score      total\n",
      "0      male          67             67             63  65.666667\n",
      "1    female          40             59             55  51.333333\n",
      "2      male          59             60             50  56.333333\n",
      "3      male          77             78             68  74.333333\n",
      "4      male          78             73             68  73.000000\n",
      "..      ...         ...            ...            ...        ...\n",
      "995    male          73             70             65  69.333333\n",
      "996    male          85             91             92  89.333333\n",
      "997  female          32             35             41  36.000000\n",
      "998  female          73             74             82  76.333333\n",
      "999    male          65             60             62  62.333333\n",
      "\n",
      "[1000 rows x 5 columns]\n"
     ]
    }
   ],
   "source": [
    "d = pd.read_csv('../data/raw/exams.csv')\n",
    "\n",
    "df = (\n",
    "    pd.read_csv('../data/raw/exams.csv')\n",
    "    .drop(columns = [\"race/ethnicity\",\"parental level of education\", \"test preparation course\",\"lunch\"])\n",
    "    .dropna()\n",
    "    .rename(columns={'gender': 'Sex', 'math score': 'Math Score', 'reading score': 'Reading Score', 'writing score': 'Writing Score'},)\n",
    "    .assign(total=(d['reading score']+d['math score']+d['writing score'])/3)\n",
    ")\n",
    "print(df)\n",
    "    "
   ]
  },
  {
   "cell_type": "code",
   "execution_count": 91,
   "metadata": {},
   "outputs": [
    {
     "data": {
      "text/html": [
       "<div>\n",
       "<style scoped>\n",
       "    .dataframe tbody tr th:only-of-type {\n",
       "        vertical-align: middle;\n",
       "    }\n",
       "\n",
       "    .dataframe tbody tr th {\n",
       "        vertical-align: top;\n",
       "    }\n",
       "\n",
       "    .dataframe thead th {\n",
       "        text-align: right;\n",
       "    }\n",
       "</style>\n",
       "<table border=\"1\" class=\"dataframe\">\n",
       "  <thead>\n",
       "    <tr style=\"text-align: right;\">\n",
       "      <th></th>\n",
       "      <th>Sex</th>\n",
       "      <th>Math Score</th>\n",
       "      <th>Reading Score</th>\n",
       "      <th>Writing Score</th>\n",
       "      <th>average</th>\n",
       "    </tr>\n",
       "  </thead>\n",
       "  <tbody>\n",
       "    <tr>\n",
       "      <th>0</th>\n",
       "      <td>male</td>\n",
       "      <td>67</td>\n",
       "      <td>67</td>\n",
       "      <td>63</td>\n",
       "      <td>65.666667</td>\n",
       "    </tr>\n",
       "    <tr>\n",
       "      <th>1</th>\n",
       "      <td>female</td>\n",
       "      <td>40</td>\n",
       "      <td>59</td>\n",
       "      <td>55</td>\n",
       "      <td>51.333333</td>\n",
       "    </tr>\n",
       "    <tr>\n",
       "      <th>2</th>\n",
       "      <td>male</td>\n",
       "      <td>59</td>\n",
       "      <td>60</td>\n",
       "      <td>50</td>\n",
       "      <td>56.333333</td>\n",
       "    </tr>\n",
       "    <tr>\n",
       "      <th>3</th>\n",
       "      <td>male</td>\n",
       "      <td>77</td>\n",
       "      <td>78</td>\n",
       "      <td>68</td>\n",
       "      <td>74.333333</td>\n",
       "    </tr>\n",
       "    <tr>\n",
       "      <th>4</th>\n",
       "      <td>male</td>\n",
       "      <td>78</td>\n",
       "      <td>73</td>\n",
       "      <td>68</td>\n",
       "      <td>73.000000</td>\n",
       "    </tr>\n",
       "    <tr>\n",
       "      <th>...</th>\n",
       "      <td>...</td>\n",
       "      <td>...</td>\n",
       "      <td>...</td>\n",
       "      <td>...</td>\n",
       "      <td>...</td>\n",
       "    </tr>\n",
       "    <tr>\n",
       "      <th>995</th>\n",
       "      <td>male</td>\n",
       "      <td>73</td>\n",
       "      <td>70</td>\n",
       "      <td>65</td>\n",
       "      <td>69.333333</td>\n",
       "    </tr>\n",
       "    <tr>\n",
       "      <th>996</th>\n",
       "      <td>male</td>\n",
       "      <td>85</td>\n",
       "      <td>91</td>\n",
       "      <td>92</td>\n",
       "      <td>89.333333</td>\n",
       "    </tr>\n",
       "    <tr>\n",
       "      <th>997</th>\n",
       "      <td>female</td>\n",
       "      <td>32</td>\n",
       "      <td>35</td>\n",
       "      <td>41</td>\n",
       "      <td>36.000000</td>\n",
       "    </tr>\n",
       "    <tr>\n",
       "      <th>998</th>\n",
       "      <td>female</td>\n",
       "      <td>73</td>\n",
       "      <td>74</td>\n",
       "      <td>82</td>\n",
       "      <td>76.333333</td>\n",
       "    </tr>\n",
       "    <tr>\n",
       "      <th>999</th>\n",
       "      <td>male</td>\n",
       "      <td>65</td>\n",
       "      <td>60</td>\n",
       "      <td>62</td>\n",
       "      <td>62.333333</td>\n",
       "    </tr>\n",
       "  </tbody>\n",
       "</table>\n",
       "<p>1000 rows × 5 columns</p>\n",
       "</div>"
      ],
      "text/plain": [
       "        Sex  Math Score  Reading Score  Writing Score    average\n",
       "0      male          67             67             63  65.666667\n",
       "1    female          40             59             55  51.333333\n",
       "2      male          59             60             50  56.333333\n",
       "3      male          77             78             68  74.333333\n",
       "4      male          78             73             68  73.000000\n",
       "..      ...         ...            ...            ...        ...\n",
       "995    male          73             70             65  69.333333\n",
       "996    male          85             91             92  89.333333\n",
       "997  female          32             35             41  36.000000\n",
       "998  female          73             74             82  76.333333\n",
       "999    male          65             60             62  62.333333\n",
       "\n",
       "[1000 rows x 5 columns]"
      ]
     },
     "execution_count": 91,
     "metadata": {},
     "output_type": "execute_result"
    }
   ],
   "source": [
    "from project_functions2 import load_and_process \n",
    "d = load_and_process('../data/raw/exams.csv')\n",
    "d"
   ]
  },
  {
   "cell_type": "markdown",
   "metadata": {},
   "source": [
    "# Task 4"
   ]
  },
  {
   "cell_type": "markdown",
   "metadata": {},
   "source": [
    "### Figure 1 "
   ]
  },
  {
   "cell_type": "code",
   "execution_count": 93,
   "metadata": {},
   "outputs": [
    {
     "name": "stdout",
     "output_type": "stream",
     "text": [
      "gender\n",
      "female    68.930987\n",
      "male      66.573179\n",
      "Name: average score, dtype: float64\n"
     ]
    },
    {
     "data": {
      "image/png": "[encoded data removed]",
      "text/plain": [
       "<Figure size 432x288 with 1 Axes>"
      ]
     },
     "metadata": {
      "needs_background": "light"
     },
     "output_type": "display_data"
    }
   ],
   "source": [
    "d = pd.read_csv('../data/raw/exams.csv')\n",
    "d['average score']=(d['reading score']+d['math score']+d['writing score'])/3\n",
    "sns.barplot(x='gender',y='average score', data=d, hue='gender', capsize =0.25)\n",
    "print(d['average score'].groupby(d[\"gender\"]).mean())"
   ]
  },
  {
   "cell_type": "markdown",
   "metadata": {},
   "source": [
    "### Figure 2\n",
    "The first average I look at is the readings scores in relation to each sex. I look at .unique() to print out the genders"
   ]
  },
  {
   "cell_type": "code",
   "execution_count": 95,
   "metadata": {},
   "outputs": [
    {
     "name": "stdout",
     "output_type": "stream",
     "text": [
      "gender\n",
      "female    71.888199\n",
      "male      66.305609\n",
      "Name: reading score, dtype: float64\n",
      "        count       mean        std   min   25%   50%   75%    max\n",
      "gender                                                            \n",
      "female  483.0  71.888199  14.660470  29.0  62.0  72.0  83.0  100.0\n",
      "male    517.0  66.305609  14.305073  27.0  57.0  67.0  77.0  100.0\n"
     ]
    },
    {
     "data": {
      "image/png": "[encoded data removed]",
      "text/plain": [
       "<Figure size 432x432 with 3 Axes>"
      ]
     },
     "metadata": {
      "needs_background": "light"
     },
     "output_type": "display_data"
    }
   ],
   "source": [
    "d = pd.read_csv('../data/raw/exams.csv')\n",
    "sns.jointplot(data = d, x=\"gender\", y=\"reading score\")\n",
    "print(d['reading score'].groupby(d[\"gender\"]).mean())\n",
    "print(d['reading score'].groupby(d[\"gender\"]).describe())"
   ]
  },
  {
   "cell_type": "markdown",
   "metadata": {},
   "source": [
    "### Figure 3 \n",
    "The averages I look at is the writing scores in relation to each sex. "
   ]
  },
  {
   "cell_type": "code",
   "execution_count": 96,
   "metadata": {},
   "outputs": [
    {
     "name": "stdout",
     "output_type": "stream",
     "text": [
      "gender\n",
      "female    71.708075\n",
      "male      64.029014\n",
      "Name: writing score, dtype: float64\n",
      "        count       mean        std   min   25%   50%   75%    max\n",
      "gender                                                            \n",
      "female  483.0  71.708075  15.238072  23.0  62.0  72.0  83.0  100.0\n",
      "male    517.0  64.029014  15.025983  23.0  54.0  64.0  74.0  100.0\n"
     ]
    },
    {
     "data": {
      "image/png": "[encoded data removed]",
      "text/plain": [
       "<Figure size 432x432 with 3 Axes>"
      ]
     },
     "metadata": {
      "needs_background": "light"
     },
     "output_type": "display_data"
    }
   ],
   "source": [
    "d = pd.read_csv('../data/raw/exams.csv')\n",
    "sns.jointplot(data = d, x=\"gender\", y=\"writing score\")\n",
    "print(d['writing score'].groupby(d[\"gender\"]).mean())\n",
    "print(d['writing score'].groupby(d[\"gender\"]).describe())"
   ]
  },
  {
   "cell_type": "markdown",
   "metadata": {},
   "source": [
    "### Figure 4\n",
    "The averages I look at is the math scores in relation to each sex. "
   ]
  },
  {
   "cell_type": "code",
   "execution_count": 97,
   "metadata": {},
   "outputs": [
    {
     "name": "stdout",
     "output_type": "stream",
     "text": [
      "gender\n",
      "female    63.196687\n",
      "male      69.384913\n",
      "Name: math score, dtype: float64\n",
      "        count       mean        std   min   25%   50%   75%    max\n",
      "gender                                                            \n",
      "female  483.0  63.196687  15.490079  13.0  53.0  63.0  75.0  100.0\n",
      "male    517.0  69.384913  14.719365  29.0  59.0  70.0  79.0  100.0\n"
     ]
    },
    {
     "data": {
      "image/png": "[encoded data removed]",
      "text/plain": [
       "<Figure size 432x432 with 3 Axes>"
      ]
     },
     "metadata": {
      "needs_background": "light"
     },
     "output_type": "display_data"
    }
   ],
   "source": [
    "d = pd.read_csv('../data/raw/exams.csv')\n",
    "sns.jointplot(data = d, x=\"gender\", y=\"math score\")\n",
    "print(d['math score'].groupby(d[\"gender\"]).mean())\n",
    "print(d['math score'].groupby(d[\"gender\"]).describe())"
   ]
  },
  {
   "cell_type": "markdown",
   "metadata": {},
   "source": [
    "## Conclusion \n",
    "After conducting my research on the different averages of the 3 different test scores in relation to sex, the data showed that females on average did better than males, specifically in writing and reading. The only test score where males did slightly better than females is in math. On average, females did 2.357808% better than males when totaling up the average of all test scores. We can see the difference in figure 1 where females averaged 68.930987% whereas males averaged 66.573179%. In figures 2,3,and 4 each figure shows the test scores for each type of standarized test. In figure 2, females averaged 71.9% and males averaged 66.3% for reading scores, which is a 5.6% difference. In figure 3, females averaged 71.7% and males averaged 64.0% for writing scores, which is a 7.7% difference. Lastly, in figure 4, females averaged 63.2% and males averaged 69.4% for math scores, which is a -6.2% difference. \n",
    "\n",
    "Looking at the different averages for each test score, we can't be super confident to say that females are smarter than males. However, we can say that females typically do better than males in standarized tests based on the averages and standard deviations per figure. \n"
   ]
  },
  {
   "cell_type": "code",
   "execution_count": null,
   "metadata": {},
   "outputs": [],
   "source": []
  }
 ],
 "metadata": {
  "kernelspec": {
   "display_name": "Python 3",
   "language": "python",
   "name": "python3"
  },
  "language_info": {
   "codemirror_mode": {
    "name": "ipython",
    "version": 3
   },
   "file_extension": ".py",
   "mimetype": "text/x-python",
   "name": "python",
   "nbconvert_exporter": "python",
   "pygments_lexer": "ipython3",
   "version": "3.9.12"
  }
 },
 "nbformat": 4,
 "nbformat_minor": 4
}
